{
 "cells": [
  {
   "cell_type": "code",
   "execution_count": null,
   "metadata": {},
   "outputs": [
    {
     "ename": "",
     "evalue": "",
     "output_type": "error",
     "traceback": [
      "\u001b[1;31mThe kernel failed to start due to the missing module '_sqlite3'. Consider installing this module.\n",
      "\u001b[1;31mClick <a href='https://aka.ms/kernelFailuresMissingModule'>here</a> for more info."
     ]
    }
   ],
   "source": [
    "import networkx as nx\n",
    "\n",
    "\"\"\"\n",
    "Podamos los grafo que solo tengan grado 1 ya que hemos partido de un influencer \n",
    "inicialy podemos sobreentender que todos siguen a ese (de esta manera ahorramos \n",
    "recursos facilitando los calculos)\n",
    "\"\"\"\n",
    "G = nx.read_gml('./grafo.gml')\n",
    "G = G.to_undirected\n",
    "\n",
    "\"\"\"\n",
    "    k_core saca subgrafos masximales que contengan nodos de grado k o mayor\n",
    "    lo pasamos a no dirigido\n",
    "\"\"\"\n",
    "G= nx.k_core(G,k=2)\n",
    "\n",
    "nx.write(G, 'grafo_con_poda')\n"
   ]
  }
 ],
 "metadata": {
  "kernelspec": {
   "display_name": "Python 3",
   "language": "python",
   "name": "python3"
  },
  "language_info": {
   "name": "python",
   "version": "3.12.2"
  }
 },
 "nbformat": 4,
 "nbformat_minor": 2
}
