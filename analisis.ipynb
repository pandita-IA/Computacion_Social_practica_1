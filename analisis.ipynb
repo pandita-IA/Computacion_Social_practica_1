{
 "cells": [
  {
   "cell_type": "code",
   "execution_count": 1,
   "metadata": {},
   "outputs": [],
   "source": [
    "import networkx as nx\n",
    "import matplotlib.pyplot as plt\n",
    "from matplotlib import pylab\n",
    "\n",
    "\n",
    "\"\"\"\n",
    "Podamos los grafo que solo tengan grado 1 ya que hemos partido de un influencer \n",
    "inicialy podemos sobreentender que todos siguen a ese (de esta manera ahorramos \n",
    "recursos facilitando los calculos)\n",
    "\"\"\"\n",
    "G = nx.read_gml('./grafo_con_poda.gml')\n",
    "G = G.to_undirected()"
   ]
  },
  {
   "cell_type": "code",
   "execution_count": 2,
   "metadata": {},
   "outputs": [
    {
     "name": "stdout",
     "output_type": "stream",
     "text": [
      "Número de nodos: 8273\n",
      "Número de aristas: 23120\n"
     ]
    }
   ],
   "source": [
    "print(\"Número de nodos:\", G.number_of_nodes())\n",
    "print(\"Número de aristas:\", G.number_of_edges())"
   ]
  },
  {
   "cell_type": "code",
   "execution_count": 3,
   "metadata": {},
   "outputs": [
    {
     "data": {
      "text/plain": [
       "True"
      ]
     },
     "execution_count": 3,
     "metadata": {},
     "output_type": "execute_result"
    }
   ],
   "source": [
    "nx.is_connected(G) # Es un grafo conexo"
   ]
  },
  {
   "cell_type": "code",
   "execution_count": 5,
   "metadata": {},
   "outputs": [
    {
     "name": "stdout",
     "output_type": "stream",
     "text": [
      "El usuario más sociable es: ('1740037465761619968', 1293)\n",
      "El usuario menos sociable es: ('835338751979159553', 2)\n"
     ]
    }
   ],
   "source": [
    "grados = sorted(G.degree, key=lambda x: x[1], reverse=True)\n",
    "mas_sociable = grados[0]\n",
    "menos_sociable = grados[-1]\n",
    "\n",
    "print(\"El usuario más sociable es:\", mas_sociable)\n",
    "print(\"El usuario menos sociable es:\", menos_sociable)"
   ]
  },
  {
   "cell_type": "code",
   "execution_count": 7,
   "metadata": {},
   "outputs": [
    {
     "data": {
      "text/plain": [
       "['1687940719896322049',\n",
       " '332309033',\n",
       " '1761409012602372096',\n",
       " '1358504748505260043',\n",
       " '1716756536150704129']"
      ]
     },
     "execution_count": 7,
     "metadata": {},
     "output_type": "execute_result"
    }
   ],
   "source": [
    "cliques = list(nx.find_cliques(G))\n",
    "sorted(cliques, key = lambda x: len(x), reverse=True)[0]"
   ]
  },
  {
   "cell_type": "code",
   "execution_count": 13,
   "metadata": {},
   "outputs": [],
   "source": [
    "diccionario_adyacencias = dict(G.adjacency())\n",
    "lista_aristas = G.edges"
   ]
  },
  {
   "cell_type": "markdown",
   "metadata": {},
   "source": [
    "# Estadísticas descriptivas de las redes\n",
    "\n",
    "El objetivo de modelar la realidad en forma de redes complejas no es otro que entender y describir los fenómenos del mundo real de forma cuantitativa y cualitativa. Dicho de otra forma, **extraer conocimiento útil** mediante el análisis de las redes complejas.\n",
    "\n",
    "Un conjunto de herramientas que nos sirve para alcanzar nuestro objetivo son las estadísticas descriptivas de una red, las cuales se pueden agrupar en:\n",
    "\n",
    "- Medidas de **conectividad** de la red, que están directa o indirectamente relacionadas con el número de conexiones que tiene un nodo, así como con la estructura global de conexiones de la red.\n",
    "- Medidas de **_motif_**, que cuentan la frecuencia de subgrafos específicos en una red; o dicho de otra forma, patrones de interconexión que se producen en las redes complejas en números significativamente superiores a los de las redes aleatorias ([fuente](https://www.science.org/doi/10.1126/science.298.5594.824)).\n",
    "- Medidas de **posición**, relacionadas con el lugar que ocupan los nodos dentro de la red, así como la distancia entre ellos.\n",
    "\n",
    "Además, en función de su ámbito podemos distinguir entre las medidas a **nivel de nodo**, o **locales**, y las medidas a **nivel de red**, o **globales**."
   ]
  },
  {
   "cell_type": "code",
   "execution_count": 9,
   "metadata": {},
   "outputs": [
    {
     "name": "stdout",
     "output_type": "stream",
     "text": [
      "Grado medio de la red: 5.5893\n",
      "Densidad de la red: 0.0007\n"
     ]
    }
   ],
   "source": [
    "print(f\"Grado medio de la red: {2*G.number_of_edges() / float(G.number_of_nodes()):.4f}\")\n",
    "print(f\"Densidad de la red: {(2*G.number_of_edges() / float(G.number_of_nodes())) / float(G.number_of_nodes()):.4f}\")\n"
   ]
  },
  {
   "cell_type": "code",
   "execution_count": 21,
   "metadata": {},
   "outputs": [
    {
     "data": {
      "text/plain": [
       "<Axes: >"
      ]
     },
     "execution_count": 21,
     "metadata": {},
     "output_type": "execute_result"
    },
    {
     "data": {
      "image/png": "[encoded data removed]",
      "text/plain": [
       "<Figure size 700x700 with 1 Axes>"
      ]
     },
     "metadata": {},
     "output_type": "display_data"
    }
   ],
   "source": [
    "import seaborn as sns\n",
    "import matplotlib.pyplot as plt\n",
    "\"\"\"\n",
    "    Mostramos la distribucion de los grafos de los nodos con escala logaritmica\n",
    "\"\"\"\n",
    "sns.set_theme(style=\"whitegrid\")\n",
    "grados = [d for n, d in G.degree()]\n",
    "\n",
    "grados_ord = sorted(set(grados))\n",
    "conteo = [grados.count(g) for g in grados_ord]\n",
    "f, ax = plt.subplots(figsize=(7, 7))\n",
    "ax.set(xscale=\"log\", yscale=\"log\")\n",
    "sns.scatterplot(x=grados_ord, y=conteo, ax=ax)"
   ]
  },
  {
   "cell_type": "code",
   "execution_count": 22,
   "metadata": {},
   "outputs": [
    {
     "name": "stdout",
     "output_type": "stream",
     "text": [
      "El coeficiente de clustering global es 0.004536677149127547\n"
     ]
    }
   ],
   "source": [
    "coeficientes_clustering_local = nx.clustering(G) # cuantifica qué tanto esta de interconectado con sus vecinos \n",
    "coeficiente_clustering_global = nx.transitivity(G)\n",
    "print(f\"El coeficiente de clustering global es {coeficiente_clustering_global}\")"
   ]
  },
  {
   "cell_type": "code",
   "execution_count": 26,
   "metadata": {},
   "outputs": [],
   "source": [
    "l = dict(nx.all_pairs_shortest_path_length(G)) #DICCIONARIO CAMINO MÁS CORTO"
   ]
  },
  {
   "cell_type": "code",
   "execution_count": 25,
   "metadata": {},
   "outputs": [
    {
     "name": "stdout",
     "output_type": "stream",
     "text": [
      "El diámetro de la red es 13\n"
     ]
    }
   ],
   "source": [
    "diametro = nx.diameter(G)\n",
    "print(f\"El diámetro de la red es {diametro}\")"
   ]
  },
  {
   "cell_type": "code",
   "execution_count": 27,
   "metadata": {},
   "outputs": [],
   "source": [
    "excentricidad = nx.eccentricity(G, sp=l) # camino más largo que se puede realizar desde cada nodo"
   ]
  },
  {
   "cell_type": "code",
   "execution_count": 28,
   "metadata": {},
   "outputs": [
    {
     "name": "stderr",
     "output_type": "stream",
     "text": [
      "/home/pandita/anaconda3/lib/python3.11/site-packages/seaborn/_oldcore.py:1765: FutureWarning: unique with argument that is not not a Series, Index, ExtensionArray, or np.ndarray is deprecated and will raise in a future version.\n",
      "  order = pd.unique(vector)\n"
     ]
    },
    {
     "name": "stdout",
     "output_type": "stream",
     "text": [
      "El camino geodésico medio es: 4.31\n"
     ]
    },
    {
     "data": {
      "image/png": "[encoded data removed]",
      "text/plain": [
       "<Figure size 640x480 with 1 Axes>"
      ]
     },
     "metadata": {},
     "output_type": "display_data"
    }
   ],
   "source": [
    "caminos = []\n",
    "for i in l.keys():\n",
    "    for j in l[i].keys():\n",
    "        if l[i][j] != 0:\n",
    "            caminos.append(l[i][j])\n",
    "\n",
    "sns.countplot(x=caminos)\n",
    "\n",
    "\"\"\"\n",
    "    métrica a nivel global de la distancia media entre cualquier par de nodos seleccionados aleatoriamente\n",
    "\"\"\"\n",
    "\n",
    "print(f\"El camino geodésico medio es: {nx.average_shortest_path_length(G):.2f}\")"
   ]
  },
  {
   "cell_type": "code",
   "execution_count": 30,
   "metadata": {},
   "outputs": [
    {
     "data": {
      "text/plain": [
       "1"
      ]
     },
     "execution_count": 30,
     "metadata": {},
     "output_type": "execute_result"
    }
   ],
   "source": [
    "len(list(nx.connected_components(G))) # Es un grafo conexo, forma una única componente conexa"
   ]
  },
  {
   "cell_type": "code",
   "execution_count": null,
   "metadata": {},
   "outputs": [],
   "source": [
    "print(\"Número de nodos:\", G.number_of_nodes())\n",
    "print(\"Número de aristas:\", G.number_of_edges())"
   ]
  },
  {
   "cell_type": "code",
   "execution_count": 32,
   "metadata": {},
   "outputs": [
    {
     "name": "stdout",
     "output_type": "stream",
     "text": [
      "Coef. de clustering medio de la red: 0.004536677149127547\n",
      "Coef. de clustering medio de una red ER: 0.0007485205024443872\n",
      "\n",
      "\n",
      "Grado medio de la red: 5.5893\n",
      "Grado medio de una red ER: 5.5769\n",
      "\n",
      "\n",
      "Densidad de la red: 0.0007\n",
      "Densidad de una red ER: 0.0007\n"
     ]
    }
   ],
   "source": [
    "\"\"\"determinar si el comportamiento de nuestros datos han seguido un proceso aleatorio o no\n",
    "Para ello calculamos el coeficiente de clustering medio, el grado medio y la densidad. Esto solo\n",
    "nos dará una idea de la cercanía entre nuestra red y una aleatoria, comprobando si el histograma es \n",
    "parecido al de Possion sacaremos conclusiones más acertadas \"\"\"\n",
    "import numpy as np \n",
    "k = np.mean(grados)\n",
    "n = G.number_of_nodes()\n",
    "\n",
    "print(f\"Coef. de clustering medio de la red: {nx.transitivity(G)}\") \n",
    "print(f\"Coef. de clustering medio de una red ER: {nx.transitivity(nx.erdos_renyi_graph(n, k/(n-1)))}\") #coeficiente para una red ER con el mismo nº de nodos y un parámetro de probabilidad ajustado para que el grado medio sea similar al de la red de karate. \n",
    "\n",
    "print(\"\\n\")\n",
    "print(f\"Grado medio de la red: {2*G.number_of_edges() / float(G.number_of_nodes()):.4f}\")\n",
    "print(f\"Grado medio de una red ER: {2*(nx.erdos_renyi_graph(n, k/(n-1))).number_of_edges() / float((nx.erdos_renyi_graph(n, k/(n-1))).number_of_nodes()):.4f}\")\n",
    "\n",
    "print(\"\\n\")\n",
    "print(f\"Densidad de la red: {(2*G.number_of_edges() / float(G.number_of_nodes())) / float(G.number_of_nodes()):.4f}\")\n",
    "print(f\"Densidad de una red ER: {(2*(nx.erdos_renyi_graph(n, k/(n-1))).number_of_edges() / float((nx.erdos_renyi_graph(n, k/(n-1))).number_of_nodes())) / float((nx.erdos_renyi_graph(n, k/(n-1))).number_of_nodes()):.4f}\")"
   ]
  },
  {
   "cell_type": "code",
   "execution_count": 47,
   "metadata": {},
   "outputs": [
    {
     "data": {
      "image/png": "[encoded data removed]",
      "text/plain": [
       "<Figure size 640x480 with 1 Axes>"
      ]
     },
     "metadata": {},
     "output_type": "display_data"
    }
   ],
   "source": [
    "import networkx as nx\n",
    "import random\n",
    "import math\n",
    "from scipy import stats\n",
    "import matplotlib.pyplot as plt\n",
    "import seaborn as sns\n",
    "\n",
    "\"\"\"\n",
    "    Vamos a comparar metricas de una red aleatorio con la que tenemos\n",
    "\"\"\"\n",
    "k = np.mean(grados)\n",
    "\n",
    "xs = list(range(min(grados), max(grados)+1))\n",
    "plt.hist(grados, bins=xs, density=True, label='Real')\n",
    "plt.plot(xs, [stats.poisson.pmf(s, k) for s in xs], 'r+-', label='Poisson $c= media $')\n",
    "plt.legend(loc=\"upper right\")\n",
    "plt.show()"
   ]
  },
  {
   "cell_type": "code",
   "execution_count": 51,
   "metadata": {},
   "outputs": [
    {
     "name": "stdout",
     "output_type": "stream",
     "text": [
      "Número de comunidades encontradas: 12\n",
      "Comunidad 1: 3146 nodos\n",
      "Nodos:\n",
      "\n",
      "Comunidad 2: 1642 nodos\n",
      "Nodos:\n",
      "\n",
      "Comunidad 3: 1555 nodos\n",
      "Nodos:\n",
      "\n",
      "Comunidad 4: 668 nodos\n",
      "Nodos:\n",
      "\n",
      "Comunidad 5: 541 nodos\n",
      "Nodos:\n",
      "\n",
      "Comunidad 6: 306 nodos\n",
      "Nodos:\n",
      "\n",
      "Comunidad 7: 203 nodos\n",
      "Nodos:\n",
      "\n",
      "Comunidad 8: 157 nodos\n",
      "Nodos:\n",
      "\n",
      "Comunidad 9: 40 nodos\n",
      "Nodos:\n",
      "\n",
      "Comunidad 10: 9 nodos\n",
      "Nodos:\n",
      "\n",
      "Comunidad 11: 3 nodos\n",
      "Nodos:\n",
      "\n",
      "Comunidad 12: 3 nodos\n",
      "Nodos:\n",
      "\n"
     ]
    }
   ],
   "source": [
    "# Aplicar un algoritmo de detección de comunidades (por ejemplo, Louvain)\n",
    "comunidades = nx.algorithms.community.modularity_max.greedy_modularity_communities(G) #el algoritmo de louvain encuentra comunidades maximizando la modularidad\n",
    "\n",
    "# Mostrar el número de comunidades identificadas\n",
    "print(\"Número de comunidades encontradas:\", len(comunidades))\n",
    "\n",
    "# Mostrar los nodos en cada comunidad\n",
    "for i, comunidad in enumerate(comunidades):\n",
    "    print(f\"Comunidad {i+1}: {len(comunidad)} nodos\")\n",
    "    print(\"Nodos:\")\n",
    "    #for node in comunidad:\n",
    "    #    print(node)\n",
    "    print() "
   ]
  }
 ],
 "metadata": {
  "kernelspec": {
   "display_name": "Python 3",
   "language": "python",
   "name": "python3"
  },
  "language_info": {
   "codemirror_mode": {
    "name": "ipython",
    "version": 3
   },
   "file_extension": ".py",
   "mimetype": "text/x-python",
   "name": "python",
   "nbconvert_exporter": "python",
   "pygments_lexer": "ipython3",
   "version": "3.11.7"
  }
 },
 "nbformat": 4,
 "nbformat_minor": 2
}
