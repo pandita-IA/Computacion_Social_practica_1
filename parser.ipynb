{
 "cells": [
  {
   "cell_type": "code",
   "execution_count": 22,
   "metadata": {},
   "outputs": [],
   "source": [
    "import os\n",
    "import json\n",
    "import asyncio\n",
    "from twscrape import API, gather\n",
    "from twscrape.logger import set_log_level\n",
    "import nest_asyncio\n",
    "from collections import defaultdict\n",
    "from itertools import chain\n",
    "import random"
   ]
  },
  {
   "cell_type": "code",
   "execution_count": 23,
   "metadata": {},
   "outputs": [],
   "source": [
    "diccionario_parser = {}\n",
    "# Opening JSON file\n",
    "f = open('./NEW/result.json')\n",
    " \n",
    "# returns JSON object as \n",
    "# a dictionary\n",
    "data = json.load(f)\n",
    "\n",
    "def dict_to_set(input_dict):\n",
    "    result_set = set()\n",
    "\n",
    "    for key_list, value in input_dict.items():\n",
    "        result_set.update(value)\n",
    "\n",
    "        # Agregar el valor único como valor en el conjunto\n",
    "        result_set.add(key_list)\n",
    "\n",
    "    return result_set"
   ]
  },
  {
   "cell_type": "code",
   "execution_count": 27,
   "metadata": {},
   "outputs": [
    {
     "ename": "AttributeError",
     "evalue": "'set' object has no attribute 'items'",
     "output_type": "error",
     "traceback": [
      "\u001b[0;31m---------------------------------------------------------------------------\u001b[0m",
      "\u001b[0;31mAttributeError\u001b[0m                            Traceback (most recent call last)",
      "Cell \u001b[0;32mIn[27], line 1\u001b[0m\n\u001b[0;32m----> 1\u001b[0m data \u001b[38;5;241m=\u001b[39m dict_to_set(data)\n\u001b[1;32m      2\u001b[0m data\u001b[38;5;241m.\u001b[39mdiscard(\u001b[38;5;28;01mNone\u001b[39;00m)\n\u001b[1;32m      3\u001b[0m data\u001b[38;5;241m.\u001b[39mdiscard(\u001b[38;5;124m'\u001b[39m\u001b[38;5;124m'\u001b[39m)\n",
      "Cell \u001b[0;32mIn[23], line 12\u001b[0m, in \u001b[0;36mdict_to_set\u001b[0;34m(input_dict)\u001b[0m\n\u001b[1;32m      9\u001b[0m \u001b[38;5;28;01mdef\u001b[39;00m \u001b[38;5;21mdict_to_set\u001b[39m(input_dict):\n\u001b[1;32m     10\u001b[0m     result_set \u001b[38;5;241m=\u001b[39m \u001b[38;5;28mset\u001b[39m()\n\u001b[0;32m---> 12\u001b[0m     \u001b[38;5;28;01mfor\u001b[39;00m key_list, value \u001b[38;5;129;01min\u001b[39;00m input_dict\u001b[38;5;241m.\u001b[39mitems():\n\u001b[1;32m     13\u001b[0m         result_set\u001b[38;5;241m.\u001b[39mupdate(value)\n\u001b[1;32m     15\u001b[0m         \u001b[38;5;66;03m# Agregar el valor único como valor en el conjunto\u001b[39;00m\n",
      "\u001b[0;31mAttributeError\u001b[0m: 'set' object has no attribute 'items'"
     ]
    }
   ],
   "source": [
    "data = dict_to_set(data)\n",
    "data.discard(None)\n",
    "data.discard('')"
   ]
  },
  {
   "cell_type": "code",
   "execution_count": 19,
   "metadata": {},
   "outputs": [
    {
     "ename": "AttributeError",
     "evalue": "'NoneType' object has no attribute 'id_str'",
     "output_type": "error",
     "traceback": [
      "\u001b[0;31m---------------------------------------------------------------------------\u001b[0m",
      "\u001b[0;31mAttributeError\u001b[0m                            Traceback (most recent call last)",
      "Cell \u001b[0;32mIn[19], line 23\u001b[0m\n\u001b[1;32m     21\u001b[0m \u001b[38;5;28;01mif\u001b[39;00m \u001b[38;5;18m__name__\u001b[39m \u001b[38;5;241m==\u001b[39m \u001b[38;5;124m\"\u001b[39m\u001b[38;5;124m__main__\u001b[39m\u001b[38;5;124m\"\u001b[39m:\n\u001b[1;32m     22\u001b[0m     \u001b[38;5;28;01mfor\u001b[39;00m i \u001b[38;5;129;01min\u001b[39;00m data:\n\u001b[0;32m---> 23\u001b[0m         \u001b[38;5;28;01mawait\u001b[39;00m main(i)\n",
      "Cell \u001b[0;32mIn[19], line 19\u001b[0m, in \u001b[0;36mmain\u001b[0;34m(user_id)\u001b[0m\n\u001b[1;32m     17\u001b[0m \u001b[38;5;66;03m# Tweet & User model can be converted to regular dict or json, e.g.:\u001b[39;00m\n\u001b[1;32m     18\u001b[0m doc \u001b[38;5;241m=\u001b[39m \u001b[38;5;28;01mawait\u001b[39;00m api\u001b[38;5;241m.\u001b[39muser_by_id(user_id)  \u001b[38;5;66;03m# User\u001b[39;00m\n\u001b[0;32m---> 19\u001b[0m guardar(doc\u001b[38;5;241m.\u001b[39mid_str, doc\u001b[38;5;241m.\u001b[39musername)\n",
      "\u001b[0;31mAttributeError\u001b[0m: 'NoneType' object has no attribute 'id_str'"
     ]
    }
   ],
   "source": [
    "import asyncio\n",
    "from twscrape import API, gather\n",
    "from twscrape.logger import set_log_level\n",
    "\n",
    "\n",
    "\n",
    "def guardar(usuario, nombre):\n",
    "    global diccionario_parser\n",
    "    diccionario_parser[usuario] = nombre\n",
    "\n",
    "    with open(\"parser.json\", \"w\") as outfile: \n",
    "        json.dump(diccionario_parser, outfile)    \n",
    "\n",
    "async def main(user_id):\n",
    "    api = API()  # or API(\"path-to.db\") - default is `accounts.db`\n",
    "\n",
    "    # Tweet & User model can be converted to regular dict or json, e.g.:\n",
    "    doc = await api.user_by_id(user_id)  # User\n",
    "    guardar(doc.id_str, doc.username)\n",
    "\n",
    "if __name__ == \"__main__\":\n",
    "    for i in data:\n",
    "        if len(i) > 0:\n",
    "            await main(i)"
   ]
  }
 ],
 "metadata": {
  "kernelspec": {
   "display_name": "base",
   "language": "python",
   "name": "python3"
  },
  "language_info": {
   "codemirror_mode": {
    "name": "ipython",
    "version": 3
   },
   "file_extension": ".py",
   "mimetype": "text/x-python",
   "name": "python",
   "nbconvert_exporter": "python",
   "pygments_lexer": "ipython3",
   "version": "3.11.7"
  }
 },
 "nbformat": 4,
 "nbformat_minor": 2
}
